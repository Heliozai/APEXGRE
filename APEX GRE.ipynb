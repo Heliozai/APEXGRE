{
 "cells": [
  {
   "cell_type": "code",
   "execution_count": 1,
   "id": "82d0cfbd-0ca5-424b-8035-b8114e6ff3ee",
   "metadata": {
    "tags": []
   },
   "outputs": [],
   "source": [
    "import numpy as np\n",
    "import pandas as pd\n",
    "import warnings\n",
    "warnings.filterwarnings(\"ignore\")"
   ]
  },
  {
   "cell_type": "markdown",
   "id": "9df6e5d9-cdfe-4c34-8014-8f076cfcc997",
   "metadata": {
    "tags": []
   },
   "source": [
    "## Lets read the data"
   ]
  },
  {
   "cell_type": "code",
   "execution_count": 2,
   "id": "bb3d71ea-6d14-41f2-be86-52b7acb1de0a",
   "metadata": {
    "tags": []
   },
   "outputs": [],
   "source": [
    "df1=pd.read_csv(\"all_games.csv\")"
   ]
  },
  {
   "cell_type": "markdown",
   "id": "f0f5e23e-91c6-4c10-aa91-27ff1ee12b6e",
   "metadata": {
    "tags": []
   },
   "source": [
    "## since we need only the name and summary for nlp we take these two"
   ]
  },
  {
   "cell_type": "code",
   "execution_count": 3,
   "id": "18c725f1-cea7-4c19-bbff-fba9a58118ad",
   "metadata": {
    "tags": []
   },
   "outputs": [],
   "source": [
    "recom=df1[['name','summary']]"
   ]
  },
  {
   "cell_type": "code",
   "execution_count": 4,
   "id": "bcb6e939-e1b9-4178-ba9b-66a5a7318028",
   "metadata": {
    "tags": []
   },
   "outputs": [
    {
     "data": {
      "text/plain": [
       "0              The Legend of Zelda: Ocarina of Time\n",
       "1                          Tony Hawk's Pro Skater 2\n",
       "2                               Grand Theft Auto IV\n",
       "3                                       SoulCalibur\n",
       "4                               Grand Theft Auto IV\n",
       "                            ...                    \n",
       "18795                      Fast & Furious: Showdown\n",
       "18796                       Drake of the 99 Dragons\n",
       "18797    Afro Samurai 2: Revenge of Kuma Volume One\n",
       "18798     Infestation: Survivor Stories (The War Z)\n",
       "18799           Leisure Suit Larry: Box Office Bust\n",
       "Name: name, Length: 18800, dtype: object"
      ]
     },
     "execution_count": 4,
     "metadata": {},
     "output_type": "execute_result"
    }
   ],
   "source": [
    "recom['name']"
   ]
  },
  {
   "cell_type": "code",
   "execution_count": 5,
   "id": "69cf258e-ce2b-48d2-9000-ccf5b8adc81c",
   "metadata": {
    "tags": []
   },
   "outputs": [],
   "source": [
    "## since there are names which comes twice. we can delete these names cause the summary would be the same an dwhen recommending it would get the same result\n",
    "recom.drop_duplicates(subset='name',keep='first',inplace=True)\n",
    "recom.reset_index(drop=True, inplace=True)"
   ]
  },
  {
   "cell_type": "code",
   "execution_count": 6,
   "id": "5a904933-71ec-47fe-8a71-6ee900b14126",
   "metadata": {
    "tags": []
   },
   "outputs": [],
   "source": [
    "## dropping the rows where sum is nan.\n",
    "drop=recom[recom['summary'].isnull()].index"
   ]
  },
  {
   "cell_type": "code",
   "execution_count": 7,
   "id": "662fb059-d16c-48b2-b8e5-9d91224d8ef8",
   "metadata": {
    "tags": []
   },
   "outputs": [],
   "source": [
    "recom.drop(index=drop,inplace=True)"
   ]
  },
  {
   "cell_type": "code",
   "execution_count": 8,
   "id": "b1cfde7b-0e3e-43f1-a01c-15f32bb9c024",
   "metadata": {
    "tags": []
   },
   "outputs": [
    {
     "data": {
      "text/html": [
       "<div>\n",
       "<style scoped>\n",
       "    .dataframe tbody tr th:only-of-type {\n",
       "        vertical-align: middle;\n",
       "    }\n",
       "\n",
       "    .dataframe tbody tr th {\n",
       "        vertical-align: top;\n",
       "    }\n",
       "\n",
       "    .dataframe thead th {\n",
       "        text-align: right;\n",
       "    }\n",
       "</style>\n",
       "<table border=\"1\" class=\"dataframe\">\n",
       "  <thead>\n",
       "    <tr style=\"text-align: right;\">\n",
       "      <th></th>\n",
       "      <th>name</th>\n",
       "      <th>summary</th>\n",
       "    </tr>\n",
       "  </thead>\n",
       "  <tbody>\n",
       "    <tr>\n",
       "      <th>0</th>\n",
       "      <td>The Legend of Zelda: Ocarina of Time</td>\n",
       "      <td>As a young boy, Link is tricked by Ganondorf, ...</td>\n",
       "    </tr>\n",
       "    <tr>\n",
       "      <th>1</th>\n",
       "      <td>Tony Hawk's Pro Skater 2</td>\n",
       "      <td>As most major publishers' development efforts ...</td>\n",
       "    </tr>\n",
       "    <tr>\n",
       "      <th>2</th>\n",
       "      <td>Grand Theft Auto IV</td>\n",
       "      <td>[Metacritic's 2008 PS3 Game of the Year; Also ...</td>\n",
       "    </tr>\n",
       "    <tr>\n",
       "      <th>3</th>\n",
       "      <td>SoulCalibur</td>\n",
       "      <td>This is a tale of souls and swords, transcendi...</td>\n",
       "    </tr>\n",
       "    <tr>\n",
       "      <th>4</th>\n",
       "      <td>Super Mario Galaxy</td>\n",
       "      <td>[Metacritic's 2007 Wii Game of the Year] The u...</td>\n",
       "    </tr>\n",
       "    <tr>\n",
       "      <th>...</th>\n",
       "      <td>...</td>\n",
       "      <td>...</td>\n",
       "    </tr>\n",
       "    <tr>\n",
       "      <th>12249</th>\n",
       "      <td>Charlie's Angels</td>\n",
       "      <td>Join Natalie, Dylan, and Alex for an intense a...</td>\n",
       "    </tr>\n",
       "    <tr>\n",
       "      <th>12250</th>\n",
       "      <td>Fast &amp; Furious: Showdown</td>\n",
       "      <td>Fast &amp; Furious: Showdown takes some of the fra...</td>\n",
       "    </tr>\n",
       "    <tr>\n",
       "      <th>12251</th>\n",
       "      <td>Drake of the 99 Dragons</td>\n",
       "      <td>Drake is out for revenge in a supernatural Hon...</td>\n",
       "    </tr>\n",
       "    <tr>\n",
       "      <th>12252</th>\n",
       "      <td>Afro Samurai 2: Revenge of Kuma Volume One</td>\n",
       "      <td>Head out on a journey of redemption, driven by...</td>\n",
       "    </tr>\n",
       "    <tr>\n",
       "      <th>12253</th>\n",
       "      <td>Infestation: Survivor Stories (The War Z)</td>\n",
       "      <td>(Formerly known as \"The War Z\") It has been 5 ...</td>\n",
       "    </tr>\n",
       "  </tbody>\n",
       "</table>\n",
       "<p>12153 rows × 2 columns</p>\n",
       "</div>"
      ],
      "text/plain": [
       "                                             name  \\\n",
       "0            The Legend of Zelda: Ocarina of Time   \n",
       "1                        Tony Hawk's Pro Skater 2   \n",
       "2                             Grand Theft Auto IV   \n",
       "3                                     SoulCalibur   \n",
       "4                              Super Mario Galaxy   \n",
       "...                                           ...   \n",
       "12249                            Charlie's Angels   \n",
       "12250                    Fast & Furious: Showdown   \n",
       "12251                     Drake of the 99 Dragons   \n",
       "12252  Afro Samurai 2: Revenge of Kuma Volume One   \n",
       "12253   Infestation: Survivor Stories (The War Z)   \n",
       "\n",
       "                                                 summary  \n",
       "0      As a young boy, Link is tricked by Ganondorf, ...  \n",
       "1      As most major publishers' development efforts ...  \n",
       "2      [Metacritic's 2008 PS3 Game of the Year; Also ...  \n",
       "3      This is a tale of souls and swords, transcendi...  \n",
       "4      [Metacritic's 2007 Wii Game of the Year] The u...  \n",
       "...                                                  ...  \n",
       "12249  Join Natalie, Dylan, and Alex for an intense a...  \n",
       "12250  Fast & Furious: Showdown takes some of the fra...  \n",
       "12251  Drake is out for revenge in a supernatural Hon...  \n",
       "12252  Head out on a journey of redemption, driven by...  \n",
       "12253  (Formerly known as \"The War Z\") It has been 5 ...  \n",
       "\n",
       "[12153 rows x 2 columns]"
      ]
     },
     "execution_count": 8,
     "metadata": {},
     "output_type": "execute_result"
    }
   ],
   "source": [
    "recom"
   ]
  },
  {
   "cell_type": "code",
   "execution_count": null,
   "id": "5ef8626e-41c2-4a31-8a30-b105eb35dc22",
   "metadata": {
    "tags": []
   },
   "outputs": [],
   "source": []
  },
  {
   "cell_type": "markdown",
   "id": "ff1fa255-86f4-44f2-9c36-bd9fcad2e7c1",
   "metadata": {
    "tags": []
   },
   "source": [
    "## LETS DO NLP"
   ]
  },
  {
   "cell_type": "markdown",
   "id": "68a717d0-e549-4d28-890a-ac1b8e663615",
   "metadata": {
    "tags": []
   },
   "source": [
    "* we need to import the recessary libraries"
   ]
  },
  {
   "cell_type": "code",
   "execution_count": 67,
   "id": "5a519bc0-a1c1-489d-881f-95d5f2ca5d3b",
   "metadata": {
    "tags": []
   },
   "outputs": [],
   "source": [
    "import re\n",
    "from sklearn.feature_extraction.text import ENGLISH_STOP_WORDS\n",
    "from nltk.corpus import stopwords\n",
    "from nltk import word_tokenize\n",
    "from nltk.stem import WordNetLemmatizer\n",
    "from sklearn.feature_extraction.text import TfidfVectorizer\n",
    "from nltk.stem.porter import PorterStemmer\n",
    "from nltk.stem import wordnet\n",
    "from nltk import pos_tag\n",
    "from sklearn.metrics.pairwise import cosine_similarity"
   ]
  },
  {
   "cell_type": "code",
   "execution_count": null,
   "id": "87518e8f-a946-4a74-963a-dad1eef9c535",
   "metadata": {
    "tags": []
   },
   "outputs": [],
   "source": []
  },
  {
   "cell_type": "code",
   "execution_count": 47,
   "id": "52f9fd90-8f46-4436-98f0-59da14a31943",
   "metadata": {
    "tags": []
   },
   "outputs": [],
   "source": [
    "## THIS WORKS LIKE A TEXT NORMALISATION PIPELINE (ANY TEXT THATS GOES IN COMES OUT CLEAN)\n",
    "\n",
    "def nlp(df, text):\n",
    "    \n",
    "    #astype is used to convert into string\n",
    "    df['dummy'] = df[text].astype(str)\n",
    "    \n",
    "    # Convert to lowercase\n",
    "    dummy = (post.lower() for post in df['dummy'])\n",
    "    df['dummy'] = [i for i in dummy]\n",
    "\n",
    "    # breaking the sentence into tokens(words)\n",
    "    token_post = (word_tokenize(post) for post in df['dummy'])\n",
    "    token_post = [i for i in token_post]\n",
    "\n",
    "    \n",
    "    # Remove Punctuation\n",
    "    reg = re.compile('(@[a-z0-9]+)|([^0-9a-z \\t])|(\\w+:\\/\\/\\S+)')\n",
    "\n",
    "    no_punc = []\n",
    "\n",
    "    for filt in token_post:\n",
    "        review = []\n",
    "        for token in filt:\n",
    "            new_token = reg.sub(u'', token)\n",
    "            if not new_token == u'':\n",
    "                review.append(new_token)\n",
    "        no_punc.append(review)\n",
    "        \n",
    "    # Remove Stopwords\n",
    "    no_stop = []\n",
    "\n",
    "    for post in no_punc:\n",
    "        new_term_vector = []\n",
    "        for word in post:\n",
    "            if not word in stopwords.words('english'):\n",
    "                new_term_vector.append(word)\n",
    "\n",
    "        no_stop.append(new_term_vector)\n",
    "         \n",
    "        # Stemming & Lemmatization(cutting down the tail)\n",
    "    pstem = PorterStemmer()\n",
    "    wlem = WordNetLemmatizer()\n",
    "\n",
    "    preproc_text = []\n",
    "\n",
    "    for text in no_stop:\n",
    "        final_text = []\n",
    "        for word in text:\n",
    "            pstem.stem(word)\n",
    "            final_text.append(wlem.lemmatize(word))\n",
    "\n",
    "        preproc_text.append(final_text)\n",
    "        \n",
    "   \n",
    "\n",
    "    new_col = pd.Series(preproc_text)\n",
    "    df['proc_summary'] = new_col\n",
    "    df.drop('dummy', axis=1, inplace=True)\n",
    "    return df\n",
    "\n",
    "proc_data = nlp(recom, 'summary')"
   ]
  },
  {
   "cell_type": "code",
   "execution_count": 53,
   "id": "5e5e909f-4cc7-4506-9613-54b4d172726c",
   "metadata": {
    "tags": []
   },
   "outputs": [
    {
     "data": {
      "text/html": [
       "<div>\n",
       "<style scoped>\n",
       "    .dataframe tbody tr th:only-of-type {\n",
       "        vertical-align: middle;\n",
       "    }\n",
       "\n",
       "    .dataframe tbody tr th {\n",
       "        vertical-align: top;\n",
       "    }\n",
       "\n",
       "    .dataframe thead th {\n",
       "        text-align: right;\n",
       "    }\n",
       "</style>\n",
       "<table border=\"1\" class=\"dataframe\">\n",
       "  <thead>\n",
       "    <tr style=\"text-align: right;\">\n",
       "      <th></th>\n",
       "      <th>name</th>\n",
       "      <th>summary</th>\n",
       "      <th>proc_summary</th>\n",
       "    </tr>\n",
       "  </thead>\n",
       "  <tbody>\n",
       "    <tr>\n",
       "      <th>0</th>\n",
       "      <td>The Legend of Zelda: Ocarina of Time</td>\n",
       "      <td>As a young boy, Link is tricked by Ganondorf, ...</td>\n",
       "      <td>[young, boy, link, tricked, ganondorf, king, g...</td>\n",
       "    </tr>\n",
       "    <tr>\n",
       "      <th>1</th>\n",
       "      <td>Tony Hawk's Pro Skater 2</td>\n",
       "      <td>As most major publishers' development efforts ...</td>\n",
       "      <td>[major, publisher, development, effort, shift,...</td>\n",
       "    </tr>\n",
       "    <tr>\n",
       "      <th>2</th>\n",
       "      <td>Grand Theft Auto IV</td>\n",
       "      <td>[Metacritic's 2008 PS3 Game of the Year; Also ...</td>\n",
       "      <td>[metacritic, 2008, ps3, game, year, also, know...</td>\n",
       "    </tr>\n",
       "    <tr>\n",
       "      <th>3</th>\n",
       "      <td>SoulCalibur</td>\n",
       "      <td>This is a tale of souls and swords, transcendi...</td>\n",
       "      <td>[tale, soul, sword, transcending, world, histo...</td>\n",
       "    </tr>\n",
       "    <tr>\n",
       "      <th>4</th>\n",
       "      <td>Super Mario Galaxy</td>\n",
       "      <td>[Metacritic's 2007 Wii Game of the Year] The u...</td>\n",
       "      <td>[metacritic, 2007, wii, game, year, ultimate, ...</td>\n",
       "    </tr>\n",
       "  </tbody>\n",
       "</table>\n",
       "</div>"
      ],
      "text/plain": [
       "                                   name  \\\n",
       "0  The Legend of Zelda: Ocarina of Time   \n",
       "1              Tony Hawk's Pro Skater 2   \n",
       "2                   Grand Theft Auto IV   \n",
       "3                           SoulCalibur   \n",
       "4                    Super Mario Galaxy   \n",
       "\n",
       "                                             summary  \\\n",
       "0  As a young boy, Link is tricked by Ganondorf, ...   \n",
       "1  As most major publishers' development efforts ...   \n",
       "2  [Metacritic's 2008 PS3 Game of the Year; Also ...   \n",
       "3  This is a tale of souls and swords, transcendi...   \n",
       "4  [Metacritic's 2007 Wii Game of the Year] The u...   \n",
       "\n",
       "                                        proc_summary  \n",
       "0  [young, boy, link, tricked, ganondorf, king, g...  \n",
       "1  [major, publisher, development, effort, shift,...  \n",
       "2  [metacritic, 2008, ps3, game, year, also, know...  \n",
       "3  [tale, soul, sword, transcending, world, histo...  \n",
       "4  [metacritic, 2007, wii, game, year, ultimate, ...  "
      ]
     },
     "execution_count": 53,
     "metadata": {},
     "output_type": "execute_result"
    }
   ],
   "source": [
    "proc_data.head()"
   ]
  },
  {
   "cell_type": "code",
   "execution_count": 52,
   "id": "16dcf402-8bcc-4b23-b164-743a501a0e24",
   "metadata": {
    "tags": []
   },
   "outputs": [],
   "source": [
    "proc_data.dropna(inplace=True)"
   ]
  },
  {
   "cell_type": "markdown",
   "id": "edd653cf-ca32-4cc3-9f76-532ecd1a7fbf",
   "metadata": {},
   "source": [
    "## next step is converting the tokens into vectors(TFID vectorizer objects)"
   ]
  },
  {
   "cell_type": "code",
   "execution_count": 54,
   "id": "0cece17c-45bf-476f-98aa-c71c664e6356",
   "metadata": {
    "tags": []
   },
   "outputs": [],
   "source": [
    "\n",
    "tfidf = TfidfVectorizer()\n",
    "\n",
    "tfidf.fit([str(i) for i in proc_data['proc_summary']])\n",
    "\n",
    "tfidf_matrix = tfidf.transform([str(i) for i in proc_data['proc_summary']])\n",
    "\n"
   ]
  },
  {
   "cell_type": "code",
   "execution_count": 55,
   "id": "b6ee0cb4-3012-4403-bc7e-a849c39fe1e9",
   "metadata": {
    "tags": []
   },
   "outputs": [
    {
     "name": "stdout",
     "output_type": "stream",
     "text": [
      "(12053, 38141)\n"
     ]
    }
   ],
   "source": [
    "# Output(we vectorized the summary success)\n",
    "print(tfidf_matrix.shape)"
   ]
  },
  {
   "cell_type": "code",
   "execution_count": null,
   "id": "4f59ac77-9bde-4177-8d7e-fb2b391e8c34",
   "metadata": {
    "tags": []
   },
   "outputs": [],
   "source": []
  },
  {
   "cell_type": "code",
   "execution_count": 56,
   "id": "0264720b-d4fd-4b18-ad05-ae0005a6b4ed",
   "metadata": {
    "tags": []
   },
   "outputs": [
    {
     "data": {
      "text/plain": [
       "array([[1.        , 0.        , 0.01963686, ..., 0.00588318, 0.00663924,\n",
       "        0.01384173],\n",
       "       [0.        , 1.        , 0.00565785, ..., 0.        , 0.01094931,\n",
       "        0.        ],\n",
       "       [0.01963686, 0.00565785, 1.        , ..., 0.        , 0.        ,\n",
       "        0.04130629],\n",
       "       ...,\n",
       "       [0.00588318, 0.        , 0.        , ..., 1.        , 0.02312863,\n",
       "        0.01493381],\n",
       "       [0.00663924, 0.01094931, 0.        , ..., 0.02312863, 1.        ,\n",
       "        0.        ],\n",
       "       [0.01384173, 0.        , 0.04130629, ..., 0.01493381, 0.        ,\n",
       "        1.        ]])"
      ]
     },
     "execution_count": 56,
     "metadata": {},
     "output_type": "execute_result"
    }
   ],
   "source": [
    "# compute cosine similarity matrix\n",
    "from sklearn.metrics.pairwise import linear_kernel # for cosine similarity\n",
    "cosine_sim = linear_kernel(tfidf_matrix, tfidf_matrix)\n",
    "\n",
    "cosine_sim"
   ]
  },
  {
   "cell_type": "code",
   "execution_count": 59,
   "id": "2316fb22-694b-4d98-bb9e-eebd1d18e1e5",
   "metadata": {
    "tags": []
   },
   "outputs": [
    {
     "data": {
      "text/plain": [
       "name\n",
       "The Legend of Zelda: Ocarina of Time        0\n",
       "Tony Hawk's Pro Skater 2                    1\n",
       "Grand Theft Auto IV                         2\n",
       "SoulCalibur                                 3\n",
       "Super Mario Galaxy                          4\n",
       "                                        ...  \n",
       "You Are Empty                           12148\n",
       "Bomberman: Act Zero                     12149\n",
       "McFarlane's Evil Prophecy               12150\n",
       "Chicago Enforcer                        12151\n",
       "Shrek: Super Party                      12152\n",
       "Length: 12053, dtype: int64"
      ]
     },
     "execution_count": 59,
     "metadata": {},
     "output_type": "execute_result"
    }
   ],
   "source": [
    "# assigning index to the title\n",
    "\n",
    "indices = pd.Series(proc_data.index, index=proc_data['name'])\n",
    "\n",
    "indices"
   ]
  },
  {
   "cell_type": "code",
   "execution_count": 68,
   "id": "62561024-3f90-489a-8069-ec3e53d7bf59",
   "metadata": {
    "tags": []
   },
   "outputs": [],
   "source": [
    "def APEX(title, cosine_sim=cosine_sim):\n",
    "       \n",
    "    idx = indices[title]\n",
    "    sim_scores = list(enumerate(cosine_sim[idx]))\n",
    "    sim_scores = sorted(sim_scores, key=lambda x: x[1], reverse=True)\n",
    "    sim_scores = sim_scores[1:6]\n",
    "    game_indices = [i[0] for i in sim_scores]\n",
    "    recs = proc_data['name'].iloc[game_indices]  \n",
    "    return recs"
   ]
  },
  {
   "cell_type": "code",
   "execution_count": null,
   "id": "b82d6000-82af-49e6-8341-af4c4aa22a48",
   "metadata": {},
   "outputs": [],
   "source": []
  },
  {
   "cell_type": "code",
   "execution_count": null,
   "id": "61bf9f05-7eaf-43d2-9aa8-c6af347e750f",
   "metadata": {},
   "outputs": [],
   "source": []
  },
  {
   "cell_type": "code",
   "execution_count": null,
   "id": "9364c1c1-770d-4ce3-8638-86e728ee22a4",
   "metadata": {},
   "outputs": [],
   "source": []
  },
  {
   "cell_type": "code",
   "execution_count": null,
   "id": "3deb56da-c78d-4a35-b9dc-59eeb0de4aa8",
   "metadata": {},
   "outputs": [],
   "source": []
  },
  {
   "cell_type": "markdown",
   "id": "67ac0e83-cd31-4251-9c39-043033124068",
   "metadata": {},
   "source": [
    "## APEX GRE"
   ]
  },
  {
   "cell_type": "code",
   "execution_count": 61,
   "id": "459502ec-bdba-4bdb-9f66-e688a8b1c14e",
   "metadata": {
    "tags": []
   },
   "outputs": [
    {
     "data": {
      "text/plain": [
       "36                   Grand Theft Auto: Vice City\n",
       "624                          Unity of Command II\n",
       "312     Grand Theft Auto IV: The Lost and Damned\n",
       "6022                    Raiden V: Director's Cut\n",
       "5443                                 Strangeland\n",
       "Name: name, dtype: object"
      ]
     },
     "execution_count": 61,
     "metadata": {},
     "output_type": "execute_result"
    }
   ],
   "source": [
    "APEX('Grand Theft Auto IV')"
   ]
  },
  {
   "cell_type": "code",
   "execution_count": 66,
   "id": "2e9344e6-2883-4aea-a044-776b69e265f9",
   "metadata": {
    "tags": []
   },
   "outputs": [],
   "source": [
    "def APEX_GRE():\n",
    "    print(\"Welcome to APEX GRE !\\n\")\n",
    "    while True:\n",
    "        user_input = input(\"Please write a game's Title\")\n",
    "        \n",
    "        if user_input.lower() == \"adios\":\n",
    "            print(\"\\nThank you for using the GRE. Adios!\")\n",
    "            break\n",
    "        \n",
    "        similar_games = sumrec(user_input)\n",
    "        \n",
    "        print(\"Here are the games that are similar to the Title you mentioned:\")\n",
    "        print(similar_games)\n",
    "        print()"
   ]
  },
  {
   "cell_type": "code",
   "execution_count": null,
   "id": "c7e33e31-2f04-42a9-898c-a542727e99e0",
   "metadata": {},
   "outputs": [],
   "source": []
  },
  {
   "cell_type": "code",
   "execution_count": 83,
   "id": "8bde808a-d2ca-4ed6-87c9-1193dbe29802",
   "metadata": {},
   "outputs": [
    {
     "name": "stdout",
     "output_type": "stream",
     "text": [
      "Welcome to APEX GRE !\n",
      "\n"
     ]
    },
    {
     "name": "stdin",
     "output_type": "stream",
     "text": [
      "Please write a game's Title Grand Theft Auto: Vice City\n"
     ]
    },
    {
     "name": "stdout",
     "output_type": "stream",
     "text": [
      "Here are the games that are similar to the Title you mentioned:\n",
      "33            Grand Theft Auto Double Pack\n",
      "2943    Super Mega Baseball: Extra Innings\n",
      "623        Hearthstone: Heroes of Warcraft\n",
      "7759                           Hyper Scape\n",
      "93        Grand Theft Auto: Chinatown Wars\n",
      "Name: name, dtype: object\n",
      "\n"
     ]
    },
    {
     "name": "stdin",
     "output_type": "stream",
     "text": [
      "Please write a game's Title adios\n"
     ]
    },
    {
     "name": "stdout",
     "output_type": "stream",
     "text": [
      "\n",
      "Thank you for using the GRE. Adios!\n"
     ]
    }
   ],
   "source": [
    "APEX_GRE()"
   ]
  },
  {
   "cell_type": "code",
   "execution_count": null,
   "id": "2aa4e720-ab9b-4559-903d-d3693140be05",
   "metadata": {},
   "outputs": [],
   "source": []
  },
  {
   "cell_type": "code",
   "execution_count": null,
   "id": "0cf9cc4d-69b7-4b66-a3a4-f44dadb1feb0",
   "metadata": {},
   "outputs": [],
   "source": []
  },
  {
   "cell_type": "code",
   "execution_count": 65,
   "id": "851d1f2c-5954-4635-948f-73357e69ce81",
   "metadata": {
    "tags": []
   },
   "outputs": [
    {
     "name": "stdout",
     "output_type": "stream",
     "text": [
      "Welcome to APEX GRE !\n",
      "\n"
     ]
    },
    {
     "name": "stdin",
     "output_type": "stream",
     "text": [
      "Please write a game's Title adios\n"
     ]
    },
    {
     "name": "stdout",
     "output_type": "stream",
     "text": [
      "\n",
      "Thank you for using the GRE. Adios!\n"
     ]
    }
   ],
   "source": []
  },
  {
   "cell_type": "code",
   "execution_count": null,
   "id": "ad697a5c-9855-4ef7-bbc8-3da5dd7f28b7",
   "metadata": {},
   "outputs": [],
   "source": []
  },
  {
   "cell_type": "markdown",
   "id": "4a619821-39ed-4a4e-832c-b7748fd35b48",
   "metadata": {},
   "source": [
    "## MAKING A RECOMMENDATION ENGINE BASED ON INPUT TEXT"
   ]
  },
  {
   "cell_type": "code",
   "execution_count": 70,
   "id": "730f9db6-724e-48aa-93f4-6dc2570f5cd2",
   "metadata": {},
   "outputs": [],
   "source": [
    "# Text Normalization\n",
    "def text_normalization(text):\n",
    "    text = str(text).lower()\n",
    "    spl_char_text = re.sub(r'[^ a-z]', '', text)\n",
    "    tokens = word_tokenize(spl_char_text)\n",
    "    lemma = wordnet.WordNetLemmatizer()\n",
    "    tags_list = pos_tag(tokens)\n",
    "\n",
    "    lemma_words = []\n",
    "    for token,pos_token in tags_list:\n",
    "        if pos_token.startswith('V'):  # Verb\n",
    "            pos_val='v'\n",
    "        elif pos_token.startswith('J'): # Adjective\n",
    "            pos_val='a'\n",
    "        elif pos_token.startswith('R'): # Adverb\n",
    "            pos_val='r'\n",
    "        else:\n",
    "            pos_val='n' # Noun\n",
    "        lemma_token=lemma.lemmatize(token,pos_val) \n",
    "        lemma_words.append(lemma_token) \n",
    "    return \" \".join(lemma_words)"
   ]
  },
  {
   "cell_type": "code",
   "execution_count": 71,
   "id": "2c311f8f-9090-44a2-89cb-b45bd196a762",
   "metadata": {},
   "outputs": [],
   "source": [
    "def sumrec(text):\n",
    "    lemma = text_normalization(text)\n",
    "    tfidf_matrix2 = tfidf.transform([lemma]).toarray()\n",
    "\n",
    "    # Calculate cosine similarity between the input tfidf matrix and the whole dataset tfidf matrix\n",
    "    cosine_sim_input = cosine_similarity(tfidf_matrix2, tfidf_matrix)\n",
    "\n",
    "    # Get indices of similar games based on the highest similarity scores\n",
    "    similar_game_indices = cosine_sim_input.argsort()[0][-5:][::-1]\n",
    "\n",
    "    # Get the names of the similar games from the dataset\n",
    "    similar_games = proc_data.loc[similar_game_indices, 'name']\n",
    "\n",
    "    return similar_games"
   ]
  },
  {
   "cell_type": "code",
   "execution_count": 76,
   "id": "de8bd325-414a-4352-bc97-f1d26c4772b9",
   "metadata": {},
   "outputs": [
    {
     "data": {
      "text/plain": [
       "3913    Star Wars Republic Commando\n",
       "1188                       Judgment\n",
       "3086           Unforeseen Incidents\n",
       "4526     Solatorobo: Red the Hunter\n",
       "290                    Call of Duty\n",
       "Name: name, dtype: object"
      ]
     },
     "execution_count": 76,
     "metadata": {},
     "output_type": "execute_result"
    }
   ],
   "source": [
    "sumrec(\"As a first-person shooter, Call of Duty places the player in control of an infantry soldier who makes use of various authentic World War II firearms in combat. Each mission features a series of objectives that are marked on the heads-up display's compass; the player must complete all objectives to advance to the next mission. The player can save and load at any time, rather than the checkpoint system utilized in later Call of Duty games.\")"
   ]
  },
  {
   "cell_type": "code",
   "execution_count": null,
   "id": "f6bed9f4-58b6-4285-aadc-df331e211122",
   "metadata": {},
   "outputs": [],
   "source": []
  },
  {
   "cell_type": "code",
   "execution_count": 77,
   "id": "23ee7a24-9f5b-4506-86c1-245cbad0a5ee",
   "metadata": {},
   "outputs": [],
   "source": [
    "def chat_bot():\n",
    "    print(\"Welcome to the game recommendation chat bot!\\n\")\n",
    "    while True:\n",
    "        user_input = input(\"Please write a game summary: \\n\")\n",
    "        \n",
    "        if user_input.lower() == \"exit\":\n",
    "            print(\"Thank you for using the chat bot. Goodbye!\")\n",
    "            break\n",
    "        \n",
    "        # Process the user's input\n",
    "        similar_games = sumrec(user_input)\n",
    "        \n",
    "        print(\"Here are the games that are similar to the summary you wrote:\\n\")\n",
    "        print(similar_games)\n",
    "        print()"
   ]
  },
  {
   "cell_type": "code",
   "execution_count": null,
   "id": "97388008-7622-4e0a-97b7-81bb3e8714b9",
   "metadata": {},
   "outputs": [],
   "source": []
  },
  {
   "cell_type": "code",
   "execution_count": 87,
   "id": "9cc2a062-dcdd-438c-a16c-67d8f04f4974",
   "metadata": {},
   "outputs": [],
   "source": [
    "def APEX_GRE_2():\n",
    "    print(\"Welcome to APEX GRE ver 2!\\n\")\n",
    "    while True:\n",
    "        user_input = input(\"Please write a game summary\")\n",
    "        \n",
    "        if user_input.lower() == \"adios\":\n",
    "            print(\"\\nThank you for using the GRE2. ADIOS!\")\n",
    "            break\n",
    "        \n",
    "        similar_games = sumrec(user_input)\n",
    "        \n",
    "        print(\"Here are the games that are similar to the summary you wrote:\")\n",
    "        print(similar_games)\n",
    "        print()\n"
   ]
  },
  {
   "cell_type": "code",
   "execution_count": null,
   "id": "e636a4e0-b675-4277-afe2-6eaad20a158d",
   "metadata": {},
   "outputs": [],
   "source": []
  },
  {
   "cell_type": "code",
   "execution_count": null,
   "id": "2a524183-b55c-4ab0-90fe-bbfa193d7033",
   "metadata": {},
   "outputs": [],
   "source": []
  },
  {
   "cell_type": "markdown",
   "id": "20a3e320-0f3d-4a7a-aab0-553a379e19b3",
   "metadata": {},
   "source": [
    "## APEX GRE 2"
   ]
  },
  {
   "cell_type": "code",
   "execution_count": null,
   "id": "8c44b7df-e653-45d1-9304-783d43b85969",
   "metadata": {},
   "outputs": [],
   "source": []
  },
  {
   "cell_type": "code",
   "execution_count": null,
   "id": "de5fc010-446b-49ef-9f04-4e5bbecace07",
   "metadata": {},
   "outputs": [
    {
     "name": "stdout",
     "output_type": "stream",
     "text": [
      "Welcome to APEX GRE ver 2!\n",
      "\n"
     ]
    }
   ],
   "source": [
    "APEX_GRE_2()"
   ]
  },
  {
   "cell_type": "code",
   "execution_count": null,
   "id": "8eb7ce6c-6c81-4018-8f40-128cd2444f05",
   "metadata": {},
   "outputs": [],
   "source": []
  },
  {
   "cell_type": "code",
   "execution_count": null,
   "id": "96d1424c-139d-4da7-80c6-26610c84bb26",
   "metadata": {},
   "outputs": [],
   "source": []
  }
 ],
 "metadata": {
  "kernelspec": {
   "display_name": "Python 3 (ipykernel)",
   "language": "python",
   "name": "python3"
  },
  "language_info": {
   "codemirror_mode": {
    "name": "ipython",
    "version": 3
   },
   "file_extension": ".py",
   "mimetype": "text/x-python",
   "name": "python",
   "nbconvert_exporter": "python",
   "pygments_lexer": "ipython3",
   "version": "3.9.12"
  }
 },
 "nbformat": 4,
 "nbformat_minor": 5
}
